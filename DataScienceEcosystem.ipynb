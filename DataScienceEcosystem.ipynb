{
  "nbformat": 4,
  "nbformat_minor": 0,
  "metadata": {
    "colab": {
      "provenance": []
    },
    "kernelspec": {
      "name": "python3",
      "display_name": "Python 3"
    },
    "language_info": {
      "name": "python"
    }
  },
  "cells": [
    {
      "cell_type": "code",
      "execution_count": null,
      "metadata": {
        "id": "RNbAcC6-CRjD"
      },
      "outputs": [],
      "source": []
    },
    {
      "cell_type": "markdown",
      "source": [
        "# Data Science Tools and Ecosystem"
      ],
      "metadata": {
        "id": "2RyguNf6CjcB"
      }
    },
    {
      "cell_type": "markdown",
      "source": [],
      "metadata": {
        "id": "UneiFeiECh1s"
      }
    },
    {
      "cell_type": "markdown",
      "source": [
        "In this notebook, Data Science Tools and Ecosystem are summarized.\n"
      ],
      "metadata": {
        "id": "o1nMhGJKDHsK"
      }
    },
    {
      "cell_type": "markdown",
      "source": [
        "Some of the popular languages that Data Scientists use are:"
      ],
      "metadata": {
        "id": "botzDgFlDanD"
      }
    },
    {
      "cell_type": "markdown",
      "source": [
        "\n",
        "\n",
        "1.   Python\n",
        "2.   R\n",
        "3.   Julia\n",
        "4.   JavaScript\n",
        "\n",
        "\n"
      ],
      "metadata": {
        "id": "TBnY9WuMDlyY"
      }
    },
    {
      "cell_type": "markdown",
      "source": [
        "Some of the commonly used libraries used by Data Scientists include:\n",
        "\n",
        "\n",
        "1.   NumPy.\n",
        "2.   Matplotlib.\n",
        "3.   Pandas.\n",
        "4.   SciPy.\n",
        "5.   PyTorch."
      ],
      "metadata": {
        "id": "3GY8linTrWv2"
      }
    },
    {
      "cell_type": "markdown",
      "source": [
        "Data Science Tools"
      ],
      "metadata": {
        "id": "XLp5LF_3sCqp"
      }
    },
    {
      "cell_type": "markdown",
      "source": [
        "| Data Science Tools         |\n",
        "|----------------------------|\n",
        "| Jupyter Notebook            |\n",
        "| RStudio                     |\n",
        "| Apache Zeppelin             |"
      ],
      "metadata": {
        "id": "1KeoletsuqRe"
      }
    },
    {
      "cell_type": "markdown",
      "source": [
        "Below are a few examples of evaluating arithmetic expressions in Python.\n",
        "### New Section"
      ],
      "metadata": {
        "id": "Op4EK3CpvSri"
      }
    },
    {
      "cell_type": "code",
      "source": [
        "### This a simple arithmetic expression to mutiply then add integers\n",
        "(3*4)+5\n",
        "\n",
        "\n",
        "\n",
        "\n"
      ],
      "metadata": {
        "colab": {
          "base_uri": "https://localhost:8080/"
        },
        "id": "e0TR3ugntVgv",
        "outputId": "b4216006-1bbb-43a1-86e9-25f581d91b6a"
      },
      "execution_count": 8,
      "outputs": [
        {
          "output_type": "execute_result",
          "data": {
            "text/plain": [
              "17"
            ]
          },
          "metadata": {},
          "execution_count": 8
        }
      ]
    },
    {
      "cell_type": "code",
      "source": [
        "# This will convert 200 minutes to hours by dividing by 60\n",
        "hours = 200 / 60\n",
        "hours"
      ],
      "metadata": {
        "colab": {
          "base_uri": "https://localhost:8080/"
        },
        "id": "KIspjGyrzVGu",
        "outputId": "f7fceebe-e4f0-4fcd-960d-50f710b1fe09"
      },
      "execution_count": 9,
      "outputs": [
        {
          "output_type": "execute_result",
          "data": {
            "text/plain": [
              "3.3333333333333335"
            ]
          },
          "metadata": {},
          "execution_count": 9
        }
      ]
    },
    {
      "cell_type": "markdown",
      "source": [
        "Objectives:\n",
        "\n",
        "*   Python\n",
        "*   R\n",
        "*   SQL\n",
        "*   Julia\n",
        "\n",
        "\n",
        "\n"
      ],
      "metadata": {
        "id": "iMYJ0eNs0B75"
      }
    },
    {
      "cell_type": "markdown",
      "source": [
        "# Author\n",
        "Sai K"
      ],
      "metadata": {
        "id": "KUYm0sA30Zb1"
      }
    }
  ]
}